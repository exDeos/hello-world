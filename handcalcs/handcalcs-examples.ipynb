{
 "cells": [
  {
   "cell_type": "code",
   "execution_count": 1,
   "id": "deadb736",
   "metadata": {},
   "outputs": [],
   "source": [
    "import handcalcs.render"
   ]
  },
  {
   "cell_type": "code",
   "execution_count": 2,
   "id": "7a33169c",
   "metadata": {},
   "outputs": [],
   "source": [
    "from math import sqrt, pi"
   ]
  },
  {
   "cell_type": "code",
   "execution_count": 3,
   "id": "95c14fc6",
   "metadata": {},
   "outputs": [
    {
     "data": {
      "text/latex": [
       "\\[\n",
       "\\begin{aligned}\n",
       "\\alpha &= 2 \\; \n",
       "\\\\[10pt]\n",
       "\\beta &= 3 \\; \n",
       "\\\\[10pt]\n",
       "\\Gamma &= 2 \\cdot \\alpha + \\left( \\beta \\right) ^{ 3 }  = 2 \\cdot 2 + \\left( 3 \\right) ^{ 3 } &= 31 \\; \\;\\textrm{(commented)}\n",
       "\\end{aligned}\n",
       "\\]"
      ],
      "text/plain": [
       "<IPython.core.display.Latex object>"
      ]
     },
     "metadata": {},
     "output_type": "display_data"
    }
   ],
   "source": [
    "%%render # short\n",
    "alpha= 2\n",
    "beta= 3\n",
    "Gamma= 2*alpha +beta**3 #commented"
   ]
  },
  {
   "cell_type": "code",
   "execution_count": 4,
   "id": "3009e9cc",
   "metadata": {},
   "outputs": [
    {
     "name": "stdout",
     "output_type": "stream",
     "text": [
      "\\[\n",
      "\\begin{aligned}\n",
      "a &= \\frac{ 2 }{ 3 } \\cdot \\sqrt { \\pi }  = \\frac{ 2 }{ 3 } \\cdot \\sqrt { 3.142 } &= 1.182  \n",
      "\\end{aligned}\n",
      "\\]\n"
     ]
    }
   ],
   "source": [
    "%%tex\n",
    "a= 2/3*sqrt(pi)"
   ]
  },
  {
   "cell_type": "code",
   "execution_count": 5,
   "id": "307b99e2",
   "metadata": {},
   "outputs": [
    {
     "data": {
      "text/latex": [
       "\\[\n",
       "\\begin{aligned}\n",
       "a &= \\frac{ 2 }{ 3 } \\cdot \\sqrt { \\pi } \\; \n",
       "\\end{aligned}\n",
       "\\]"
      ],
      "text/plain": [
       "<IPython.core.display.Latex object>"
      ]
     },
     "metadata": {},
     "output_type": "display_data"
    }
   ],
   "source": [
    "%%render # symbolic\n",
    "a= 2/3*sqrt(pi)"
   ]
  },
  {
   "cell_type": "code",
   "execution_count": 12,
   "id": "45893ac4",
   "metadata": {},
   "outputs": [
    {
     "data": {
      "text/latex": [
       "\\[\n",
       "\\begin{aligned}\n",
       "a &= 2 \\; \n",
       "\\\\[10pt]\n",
       "b &= 3 \\; \n",
       "\\\\[10pt]\n",
       "\\gamma &= 2 \\cdot a + \\left( b \\right) ^{ 3 } \\\\&= 2 \\cdot 2 + \\left( 3 \\right) ^{ 3 } \\\\&= 31 \\; \\;\\textrm{(in this case)}\\\\[10pt]\n",
       "\\end{aligned}\n",
       "\\]"
      ],
      "text/plain": [
       "<IPython.core.display.Latex object>"
      ]
     },
     "metadata": {},
     "output_type": "display_data"
    }
   ],
   "source": [
    "%%render # long\n",
    "a= 2\n",
    "b= 3\n",
    "gamma= 2*a +b**3 # in this case"
   ]
  },
  {
   "cell_type": "code",
   "execution_count": 11,
   "id": "48d97e8c",
   "metadata": {},
   "outputs": [
    {
     "data": {
      "text/latex": [
       "\\[\n",
       "\\begin{aligned}\n",
       "c &= 2 \\cdot a + \\left( b \\right) ^{ 3 }  = 2 \\cdot 2 + \\left( 3 \\right) ^{ 3 } &= 31 \\; \\;\\textrm{(in this case)}\n",
       "\\\\[10pt]\n",
       "c &= 31 \\; \\;\\textrm{(or this one)}\n",
       "\\end{aligned}\n",
       "\\]"
      ],
      "text/plain": [
       "<IPython.core.display.Latex object>"
      ]
     },
     "metadata": {},
     "output_type": "display_data"
    }
   ],
   "source": [
    "%%render # short\n",
    "c= 2*a +b**3 # in this case\n",
    "c= (2*a +b**3) # or this one"
   ]
  },
  {
   "cell_type": "code",
   "execution_count": 31,
   "id": "405eb824",
   "metadata": {},
   "outputs": [
    {
     "data": {
      "text/latex": [
       "\\[\n",
       "\\begin{aligned}\n",
       "\\mathrm{MyTuple} &= [1,\\ 4,\\ 7,\\ 10,\\ 13,\\ 16,\\ 19,\\ 22,\\ 25,\\ 28,\\ 31,\\ 34,\\ 37,\\ 40,\\ 43,\\ 46,\\ 49,\\ 52,\\ 55,\\ 58,\\ 61,\\ 64,\\ 67,\\ 70,\\ 73,\\ 76,\\ 79,\\ 82,\\ 85,\\ 88,\\ 91,\\ 94,\\ 97,\\ 100,\\ 103,\\ 106,\\ 109,\\ 112,\\ 115,\\ 118,\\ 121,\\ 124,\\ 127,\\ 130,\\ 133,\\ 136,\\ 139,\\ 142,\\ 145,\\ 148,\\ 151,\\ 154,\\ 157,\\ 160,\\ 163,\\ 166,\\ 169,\\ 172,\\ 175,\\ 178,\\ 181,\\ 184,\\ 187,\\ 190,\\ 193,\\ 196,\\ 199,\\ 202,\\ 205,\\ 208,\\ 211,\\ 214,\\ 217,\\ 220,\\ 223,\\ 226,\\ 229,\\ 232,\\ 235,\\ 238,\\ 241,\\ 244,\\ 247,\\ 250,\\ 253,\\ 256,\\ 259,\\ 262,\\ 265,\\ 268,\\ 271,\\ 274,\\ 277,\\ 280,\\ 283,\\ 286,\\ 289,\\ 292,\\ 295,\\ 298,\\ 301,\\ 304,\\ 307,\\ 310,\\ 313,\\ 316,\\ 319,\\ 322,\\ 325,\\ 328,\\ 331,\\ 334,\\ 337,\\ 340,\\ 343,\\ 346,\\ 349,\\ 352,\\ 355,\\ 358,\\ 361,\\ 364,\\ 367,\\ 370,\\ 373,\\ 376,\\ 379,\\ 382,\\ 385,\\ 388,\\ 391,\\ 394,\\ 397,\\ 400,\\ 403,\\ 406,\\ 409,\\ 412,\\ 415,\\ 418,\\ 421,\\ 424,\\ 427,\\ 430,\\ 433,\\ 436,\\ 439,\\ 442,\\ 445,\\ 448] \\; \\;\\textrm{(will work)}\n",
       "\\\\[10pt]\n",
       "\\mathrm{SumTuple} &= \\Sigma \\left( \\mathrm{MyTuple} \\right) \\\\&= \\Sigma \\left( [1,\\ 4,\\ 7,\\ 10,\\ 13,\\ 16,\\ 19,\\ 22,\\ 25,\\ 28,\\ 31,\\ 34,\\ 37,\\ 40,\\ 43,\\ 46,\\ 49,\\ 52,\\ 55,\\ 58,\\ 61,\\ 64,\\ 67,\\ 70,\\ 73,\\ 76,\\ 79,\\ 82,\\ 85,\\ 88,\\ 91,\\ 94,\\ 97,\\ 100,\\ 103,\\ 106,\\ 109,\\ 112,\\ 115,\\ 118,\\ 121,\\ 124,\\ 127,\\ 130,\\ 133,\\ 136,\\ 139,\\ 142,\\ 145,\\ 148,\\ 151,\\ 154,\\ 157,\\ 160,\\ 163,\\ 166,\\ 169,\\ 172,\\ 175,\\ 178,\\ 181,\\ 184,\\ 187,\\ 190,\\ 193,\\ 196,\\ 199,\\ 202,\\ 205,\\ 208,\\ 211,\\ 214,\\ 217,\\ 220,\\ 223,\\ 226,\\ 229,\\ 232,\\ 235,\\ 238,\\ 241,\\ 244,\\ 247,\\ 250,\\ 253,\\ 256,\\ 259,\\ 262,\\ 265,\\ 268,\\ 271,\\ 274,\\ 277,\\ 280,\\ 283,\\ 286,\\ 289,\\ 292,\\ 295,\\ 298,\\ 301,\\ 304,\\ 307,\\ 310,\\ 313,\\ 316,\\ 319,\\ 322,\\ 325,\\ 328,\\ 331,\\ 334,\\ 337,\\ 340,\\ 343,\\ 346,\\ 349,\\ 352,\\ 355,\\ 358,\\ 361,\\ 364,\\ 367,\\ 370,\\ 373,\\ 376,\\ 379,\\ 382,\\ 385,\\ 388,\\ 391,\\ 394,\\ 397,\\ 400,\\ 403,\\ 406,\\ 409,\\ 412,\\ 415,\\ 418,\\ 421,\\ 424,\\ 427,\\ 430,\\ 433,\\ 436,\\ 439,\\ 442,\\ 445,\\ 448] \\right) \\\\&= 33675  \\\\[10pt]\n",
       "\\\\[10pt]\n",
       "\\mathrm{MyList} &= [1,\\ 3,\\ 9,\\ 12] \\; \\;\\textrm{(not supported)}\n",
       "\\\\[10pt]\n",
       "\\mathrm{MaxList} &= \\operatorname{max} { \\left( \\mathrm{MyList} \\right) }  = \\operatorname{max} { \\left( [1,\\ 3,\\ 9,\\ 12] \\right) } &= 12  \n",
       "\\end{aligned}\n",
       "\\]"
      ],
      "text/plain": [
       "<IPython.core.display.Latex object>"
      ]
     },
     "metadata": {},
     "output_type": "display_data"
    }
   ],
   "source": [
    "%%render\n",
    "#MyList= {'k': \"Big Value\"} # does not work yet\n",
    "MyTuple= tuple([i*3+1 for i in range(150)]) # will work\n",
    "SumTuple= sum(MyTuple)\n",
    "MyList= [1,3,9,12,] # not supported\n",
    "MaxList= max(MyList)"
   ]
  },
  {
   "cell_type": "code",
   "execution_count": null,
   "id": "95fee7ed",
   "metadata": {},
   "outputs": [],
   "source": []
  }
 ],
 "metadata": {
  "kernelspec": {
   "display_name": "Python 3",
   "language": "python",
   "name": "python3"
  },
  "language_info": {
   "codemirror_mode": {
    "name": "ipython",
    "version": 3
   },
   "file_extension": ".py",
   "mimetype": "text/x-python",
   "name": "python",
   "nbconvert_exporter": "python",
   "pygments_lexer": "ipython3",
   "version": "3.7.10"
  }
 },
 "nbformat": 4,
 "nbformat_minor": 5
}
